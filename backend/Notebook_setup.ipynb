{
 "cells": [
  {
   "cell_type": "markdown",
   "id": "bed411e7-0e2c-4797-86b6-b80f48245356",
   "metadata": {},
   "source": [
    "### Notebook to explore dataset and setup ML algorithms"
   ]
  },
  {
   "cell_type": "markdown",
   "id": "16abfb95-41e2-46e3-84db-aa410e3b08be",
   "metadata": {},
   "source": [
    "*Imports*"
   ]
  },
  {
   "cell_type": "code",
   "execution_count": null,
   "id": "a7da87b5-a910-4f83-bece-26fc22bc2fc0",
   "metadata": {},
   "outputs": [],
   "source": [
    "import os\n",
    "import pandas as pd\n",
    "import matplotlib.pyplot as plt"
   ]
  },
  {
   "cell_type": "markdown",
   "id": "fe17e432-b527-4dac-acc6-d605a641f0b2",
   "metadata": {},
   "source": [
    "*Read the dataset*"
   ]
  },
  {
   "cell_type": "code",
   "execution_count": null,
   "id": "a30f596f-741a-419e-966b-fe83e3dfe497",
   "metadata": {},
   "outputs": [],
   "source": [
    "df = pd.read_csv(\"data_v1\\\\Dataset.csv\")"
   ]
  },
  {
   "cell_type": "markdown",
   "id": "584c92ee-4ace-449f-8abf-30e77d931282",
   "metadata": {},
   "source": [
    "*Explore Dataset*"
   ]
  },
  {
   "cell_type": "code",
   "execution_count": null,
   "id": "9ee0b22d-00d1-4ee9-946c-b5572bbcc815",
   "metadata": {},
   "outputs": [],
   "source": [
    "df.head()"
   ]
  },
  {
   "cell_type": "code",
   "execution_count": null,
   "id": "e004e364-c520-477c-b8f4-afad8837c2af",
   "metadata": {},
   "outputs": [],
   "source": [
    "df.info()"
   ]
  },
  {
   "cell_type": "code",
   "execution_count": null,
   "id": "691886bd-5d75-4315-b767-25c956a374ed",
   "metadata": {},
   "outputs": [],
   "source": []
  }
 ],
 "metadata": {
  "kernelspec": {
   "display_name": "Python 3 (ipykernel)",
   "language": "python",
   "name": "python3"
  },
  "language_info": {
   "codemirror_mode": {
    "name": "ipython",
    "version": 3
   },
   "file_extension": ".py",
   "mimetype": "text/x-python",
   "name": "python",
   "nbconvert_exporter": "python",
   "pygments_lexer": "ipython3",
   "version": "3.10.0"
  }
 },
 "nbformat": 4,
 "nbformat_minor": 5
}

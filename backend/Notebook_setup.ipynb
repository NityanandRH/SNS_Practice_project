{
 "cells": [
  {
   "cell_type": "markdown",
   "id": "bed411e7-0e2c-4797-86b6-b80f48245356",
   "metadata": {},
   "source": [
    "### Notebook to explore dataset and setup ML algorithms"
   ]
  },
  {
   "cell_type": "markdown",
   "id": "16abfb95-41e2-46e3-84db-aa410e3b08be",
   "metadata": {},
   "source": [
    "*Imports*"
   ]
  },
  {
   "cell_type": "code",
   "execution_count": 6,
   "id": "a7da87b5-a910-4f83-bece-26fc22bc2fc0",
   "metadata": {},
   "outputs": [],
   "source": [
    "import os\n",
    "import pandas as pd\n",
    "import matplotlib.pyplot as plt"
   ]
  },
  {
   "cell_type": "markdown",
   "id": "fe17e432-b527-4dac-acc6-d605a641f0b2",
   "metadata": {},
   "source": [
    "*Read the dataset*"
   ]
  },
  {
   "cell_type": "code",
   "execution_count": 10,
   "id": "a30f596f-741a-419e-966b-fe83e3dfe497",
   "metadata": {},
   "outputs": [],
   "source": [
    "df = pd.read_csv(\"data_v1\\\\Dataset.csv\")"
   ]
  },
  {
   "cell_type": "markdown",
   "id": "584c92ee-4ace-449f-8abf-30e77d931282",
   "metadata": {},
   "source": [
    "*Explore Dataset*"
   ]
  },
  {
   "cell_type": "code",
   "execution_count": 11,
   "id": "9ee0b22d-00d1-4ee9-946c-b5572bbcc815",
   "metadata": {},
   "outputs": [
    {
     "data": {
      "text/html": [
       "<div>\n",
       "<style scoped>\n",
       "    .dataframe tbody tr th:only-of-type {\n",
       "        vertical-align: middle;\n",
       "    }\n",
       "\n",
       "    .dataframe tbody tr th {\n",
       "        vertical-align: top;\n",
       "    }\n",
       "\n",
       "    .dataframe thead th {\n",
       "        text-align: right;\n",
       "    }\n",
       "</style>\n",
       "<table border=\"1\" class=\"dataframe\">\n",
       "  <thead>\n",
       "    <tr style=\"text-align: right;\">\n",
       "      <th></th>\n",
       "      <th>Age</th>\n",
       "      <th>Systolic BP</th>\n",
       "      <th>Diastolic</th>\n",
       "      <th>BS</th>\n",
       "      <th>Body Temp</th>\n",
       "      <th>BMI</th>\n",
       "      <th>Previous Complications</th>\n",
       "      <th>Preexisting Diabetes</th>\n",
       "      <th>Gestational Diabetes</th>\n",
       "      <th>Mental Health</th>\n",
       "      <th>Heart Rate</th>\n",
       "      <th>Risk Level</th>\n",
       "    </tr>\n",
       "  </thead>\n",
       "  <tbody>\n",
       "    <tr>\n",
       "      <th>0</th>\n",
       "      <td>22</td>\n",
       "      <td>90.0</td>\n",
       "      <td>60.0</td>\n",
       "      <td>9.0</td>\n",
       "      <td>100</td>\n",
       "      <td>18.0</td>\n",
       "      <td>1.0</td>\n",
       "      <td>1.0</td>\n",
       "      <td>0</td>\n",
       "      <td>1</td>\n",
       "      <td>80.0</td>\n",
       "      <td>High</td>\n",
       "    </tr>\n",
       "    <tr>\n",
       "      <th>1</th>\n",
       "      <td>22</td>\n",
       "      <td>110.0</td>\n",
       "      <td>70.0</td>\n",
       "      <td>7.1</td>\n",
       "      <td>98</td>\n",
       "      <td>20.4</td>\n",
       "      <td>0.0</td>\n",
       "      <td>0.0</td>\n",
       "      <td>0</td>\n",
       "      <td>0</td>\n",
       "      <td>74.0</td>\n",
       "      <td>Low</td>\n",
       "    </tr>\n",
       "    <tr>\n",
       "      <th>2</th>\n",
       "      <td>27</td>\n",
       "      <td>110.0</td>\n",
       "      <td>70.0</td>\n",
       "      <td>7.5</td>\n",
       "      <td>98</td>\n",
       "      <td>23.0</td>\n",
       "      <td>1.0</td>\n",
       "      <td>0.0</td>\n",
       "      <td>0</td>\n",
       "      <td>0</td>\n",
       "      <td>72.0</td>\n",
       "      <td>Low</td>\n",
       "    </tr>\n",
       "    <tr>\n",
       "      <th>3</th>\n",
       "      <td>20</td>\n",
       "      <td>100.0</td>\n",
       "      <td>70.0</td>\n",
       "      <td>7.2</td>\n",
       "      <td>98</td>\n",
       "      <td>21.2</td>\n",
       "      <td>0.0</td>\n",
       "      <td>0.0</td>\n",
       "      <td>0</td>\n",
       "      <td>0</td>\n",
       "      <td>74.0</td>\n",
       "      <td>Low</td>\n",
       "    </tr>\n",
       "    <tr>\n",
       "      <th>4</th>\n",
       "      <td>20</td>\n",
       "      <td>90.0</td>\n",
       "      <td>60.0</td>\n",
       "      <td>7.5</td>\n",
       "      <td>98</td>\n",
       "      <td>19.7</td>\n",
       "      <td>0.0</td>\n",
       "      <td>0.0</td>\n",
       "      <td>0</td>\n",
       "      <td>0</td>\n",
       "      <td>74.0</td>\n",
       "      <td>Low</td>\n",
       "    </tr>\n",
       "  </tbody>\n",
       "</table>\n",
       "</div>"
      ],
      "text/plain": [
       "   Age  Systolic BP  Diastolic   BS  Body Temp   BMI  Previous Complications  \\\n",
       "0   22         90.0       60.0  9.0        100  18.0                     1.0   \n",
       "1   22        110.0       70.0  7.1         98  20.4                     0.0   \n",
       "2   27        110.0       70.0  7.5         98  23.0                     1.0   \n",
       "3   20        100.0       70.0  7.2         98  21.2                     0.0   \n",
       "4   20         90.0       60.0  7.5         98  19.7                     0.0   \n",
       "\n",
       "   Preexisting Diabetes  Gestational Diabetes  Mental Health  Heart Rate  \\\n",
       "0                   1.0                     0              1        80.0   \n",
       "1                   0.0                     0              0        74.0   \n",
       "2                   0.0                     0              0        72.0   \n",
       "3                   0.0                     0              0        74.0   \n",
       "4                   0.0                     0              0        74.0   \n",
       "\n",
       "  Risk Level  \n",
       "0       High  \n",
       "1        Low  \n",
       "2        Low  \n",
       "3        Low  \n",
       "4        Low  "
      ]
     },
     "execution_count": 11,
     "metadata": {},
     "output_type": "execute_result"
    }
   ],
   "source": [
    "df.head()"
   ]
  },
  {
   "cell_type": "code",
   "execution_count": 12,
   "id": "e004e364-c520-477c-b8f4-afad8837c2af",
   "metadata": {},
   "outputs": [
    {
     "name": "stdout",
     "output_type": "stream",
     "text": [
      "<class 'pandas.core.frame.DataFrame'>\n",
      "RangeIndex: 1205 entries, 0 to 1204\n",
      "Data columns (total 12 columns):\n",
      " #   Column                  Non-Null Count  Dtype  \n",
      "---  ------                  --------------  -----  \n",
      " 0   Age                     1205 non-null   int64  \n",
      " 1   Systolic BP             1200 non-null   float64\n",
      " 2   Diastolic               1201 non-null   float64\n",
      " 3   BS                      1203 non-null   float64\n",
      " 4   Body Temp               1205 non-null   int64  \n",
      " 5   BMI                     1187 non-null   float64\n",
      " 6   Previous Complications  1203 non-null   float64\n",
      " 7   Preexisting Diabetes    1203 non-null   float64\n",
      " 8   Gestational Diabetes    1205 non-null   int64  \n",
      " 9   Mental Health           1205 non-null   int64  \n",
      " 10  Heart Rate              1203 non-null   float64\n",
      " 11  Risk Level              1187 non-null   object \n",
      "dtypes: float64(7), int64(4), object(1)\n",
      "memory usage: 113.1+ KB\n"
     ]
    }
   ],
   "source": [
    "df.info()"
   ]
  },
  {
   "cell_type": "code",
   "execution_count": null,
   "id": "691886bd-5d75-4315-b767-25c956a374ed",
   "metadata": {},
   "outputs": [],
   "source": []
  }
 ],
 "metadata": {
  "kernelspec": {
   "display_name": "Python 3 (ipykernel)",
   "language": "python",
   "name": "python3"
  },
  "language_info": {
   "codemirror_mode": {
    "name": "ipython",
    "version": 3
   },
   "file_extension": ".py",
   "mimetype": "text/x-python",
   "name": "python",
   "nbconvert_exporter": "python",
   "pygments_lexer": "ipython3",
   "version": "3.10.0"
  }
 },
 "nbformat": 4,
 "nbformat_minor": 5
}
